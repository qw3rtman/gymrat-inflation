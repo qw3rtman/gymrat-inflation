{
 "cells": [
  {
   "cell_type": "code",
   "execution_count": 7,
   "id": "95d8d856",
   "metadata": {},
   "outputs": [],
   "source": [
    "from selenium import webdriver\n",
    "from selenium.webdriver.common.keys import Keys\n",
    "from selenium.webdriver.common.by import By\n",
    "\n",
    "driver = webdriver.Chrome()\n",
    "driver.get(\"https://camelcamelcamel.com/product/B000GIQT2O\")\n",
    "# assert \"No results found.\" not in driver.page_source\n",
    "import time\n",
    "time.sleep(5)\n",
    "\n",
    "driver.find_element(By.ID, \"summary_chart\")\n",
    "\n",
    "driver.close()"
   ]
  },
  {
   "cell_type": "code",
   "execution_count": 20,
   "id": "b9d4beb2",
   "metadata": {},
   "outputs": [],
   "source": [
    "whey_asins = [\"B002TG3QPO\",\"B00SCO8AA8\",\"B071ZDDNBY\",\"B071ZDDNBY\",\"B085B58NB4\",\"B085B58NB4\",\"B08SR8DJHZ\",\"B08SR8DJHZ\",\"B000E8ZJGS\",\"B000E8ZJGS\",\"B099J2SWXV\",\"B099J2SWXV\",\"B000GIQT2O\",\"B000GIQT2O\",\"B099HZG89P\",\"B099HZG89P\",\"B00J074W7Q\",\"B00J074W7Q\",\"B099QT2Y84\",\"B099QT2Y84\",\"B00EACSHF4\",\"B00EACSHF4\",\"B008IC0Z8Y\",\"B008IC0Z8Y\",\"B09SVKSZCZ\",\"B09SVKSZCZ\",\"B016D9IHZG\",\"B016D9IHZG\",\"B07CPFTC3L\",\"B07CPFTC3L\",\"B000E95HP0\",\"B000E95HP0\",\"B00E7IODXQ\",\"B00E7IODXQ\",\"B000E95HP0\",\"B000E95HP0\",\"B099J4JWFQ\",\"B099J4JWFQ\",\"B002DYIZHG\",\"B002DYIZHG\",\"B00T4D0CLQ\",\"B00T4D0CLQ\",\"B09VMPYWVX\",\"B09VMPYWVX\",\"B0128RSQLC\",\"B0128RSQLC\",\"B0015R26V8\",\"B0015R26V8\",\"B0187HZSD6\",\"B0187HZSD6\",\"B000E8ZJGS\",\"B000E8ZJGS\",\"B000GISTZ4\",\"B000GISTZ4\",\"B06ZZ3PJQD\",\"B06ZZ3PJQD\",\"B002TG3QPO\",\"B002TG3QPO\",\"B00G6QHYZ6\",\"B00G6QHYZ6\",\"B07DPBW5KK\",\"B07DPBW5KK\",\"B002DYJ1C4\",\"B002DYJ1C4\",\"B08P278LHT\",\"B08P278LHT\",\"B099HXNRKK\",\"B099HXNRKK\",\"B01N7VLTW3\",\"B01N7VLTW3\",\"B0BJLBD427\",\"B0BJLBD427\",\"B00J074W94\",\"B00J074W94\",\"B08R5XT5N8\",\"B08R5XT5N8\",\"B000QSTBNS\",\"B000QSTBNS\",\"B099CDX1M3\",\"B099CDX1M3\",\"B07R7RB95F\",\"B07R7RB95F\",\"B002QZORGK\",\"B002QZORGK\",\"B06XX7BCG6\",\"B06XX7BCG6\",\"B002DYIZHQ\",\"B002DYIZHQ\",\"B082TTFF87\",\"B082TTFF87\",\"B099CJX38L\",\"B099CJX38L\",\"B00HBFZNAO\",\"B00HBFZNAO\",\"B01JUA770G\",\"B01JUA770G\",\"B006OC432E\",\"B006OC432E\",\"B08R5FTZ52\",\"B08R5FTZ52\",\"B008IC0Y80\",\"B008IC0Y80\",\"B006E54GJG\",\"B006E54GJG\",\"B0855F2689\",\"B0855F2689\",\"B06XX65GS1\",\"B06XX65GS1\",\"B00QQA0GSY\",\"B00QQA0GSY\",\"B0BM5HWGZ7\",\"B0BM5HWGZ7\",\"B01DY8NO9I\",\"B01DY8NO9I\",\"B07176RNWP\",\"B07176RNWP\",\"B008JGI6TE\",\"B008JGI6TE\",\"B09VMPYWVX\",\"B09VMPYWVX\",\"B0015R26V8\",]"
   ]
  },
  {
   "cell_type": "code",
   "execution_count": 24,
   "id": "d6259251",
   "metadata": {
    "scrolled": true
   },
   "outputs": [
    {
     "data": {
      "application/vnd.jupyter.widget-view+json": {
       "model_id": "c6d1cc6f9bf340d38219d599bf8bb2b4",
       "version_major": 2,
       "version_minor": 0
      },
      "text/plain": [
       "  0%|          | 0/121 [00:00<?, ?it/s]"
      ]
     },
     "metadata": {},
     "output_type": "display_data"
    }
   ],
   "source": [
    "import requests\n",
    "from tqdm.notebook import tqdm\n",
    "\n",
    "# TODO: some of these seem to fail?\n",
    "for asin in tqdm(whey_asins):\n",
    "    img_data = requests.get(f\"https://charts.camelcamelcamel.com/us/{asin}/amazon.png?force=1&zero=1&w=855&h=513&desired=false&legend=0&ilt=1&tp=1y&fo=0&lang=en\", headers={'User-Agent': 'Mozilla/5.0 (Macintosh; Intel Mac OS X 10_10_1) AppleWebKit/537.36 (KHTML, like Gecko) Chrome/39.0.2171.95 Safari/537.36'}).content\n",
    "    with open(f'whey/{asin}.png', 'wb') as handler:\n",
    "        handler.write(img_data)\n",
    "#     break"
   ]
  },
  {
   "cell_type": "code",
   "execution_count": 26,
   "id": "b41bd5a1",
   "metadata": {},
   "outputs": [],
   "source": [
    "from PIL import Image\n",
    "\n",
    "import pytesseract"
   ]
  },
  {
   "cell_type": "code",
   "execution_count": 115,
   "id": "f5ecdb44",
   "metadata": {},
   "outputs": [
    {
     "data": {
      "text/plain": [
       "'Mar 2'"
      ]
     },
     "execution_count": 115,
     "metadata": {},
     "output_type": "execute_result"
    }
   ],
   "source": [
    "HEIGHT = 1026\n",
    "# Image.open(img_f).crop((50, HEIGHT-120, 150, HEIGHT)) # first month + year crop\n",
    "import PIL\n",
    "pytesseract.image_to_string(Image.open(img_f).crop((50, HEIGHT-120, 150, HEIGHT-50)).rotate(-45, resample=PIL.Image.BICUBIC, fillcolor='white')).strip()"
   ]
  },
  {
   "cell_type": "code",
   "execution_count": 120,
   "id": "2fc44904",
   "metadata": {},
   "outputs": [],
   "source": [
    "# valid images\n",
    "\n",
    "from pathlib import Path\n",
    "\n",
    "valid_img_f = []\n",
    "for img_f in Path('./whey').glob('*.png'):\n",
    "    img = Image.open(img_f)\n",
    "\n",
    "    price = float(pytesseract.image_to_string(img.crop((0, 0, 80, 100))).strip()[1:])\n",
    "    if price >= 100:\n",
    "        continue\n",
    "\n",
    "    month = pytesseract.image_to_string(img.crop((50, HEIGHT-120, 150, HEIGHT-50)).rotate(-45, resample=PIL.Image.BICUBIC, fillcolor='white')).strip()\n",
    "    if month[0] != 'M':\n",
    "        continue\n",
    "    \n",
    "    valid_img_f.append(img_f)\n",
    "#     img.show()"
   ]
  },
  {
   "cell_type": "code",
   "execution_count": 121,
   "id": "da7f7a66",
   "metadata": {},
   "outputs": [
    {
     "data": {
      "text/plain": [
       "36"
      ]
     },
     "execution_count": 121,
     "metadata": {},
     "output_type": "execute_result"
    }
   ],
   "source": [
    "len(valid_img_f)"
   ]
  },
  {
   "cell_type": "code",
   "execution_count": null,
   "id": "f67261fd",
   "metadata": {},
   "outputs": [],
   "source": []
  }
 ],
 "metadata": {
  "kernelspec": {
   "display_name": "Python 3 (ipykernel)",
   "language": "python",
   "name": "python3"
  },
  "language_info": {
   "codemirror_mode": {
    "name": "ipython",
    "version": 3
   },
   "file_extension": ".py",
   "mimetype": "text/x-python",
   "name": "python",
   "nbconvert_exporter": "python",
   "pygments_lexer": "ipython3",
   "version": "3.10.0"
  }
 },
 "nbformat": 4,
 "nbformat_minor": 5
}
